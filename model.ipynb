{
 "cells": [
  {
   "cell_type": "markdown",
   "source": [
    "Importing libraries and importing data"
   ],
   "metadata": {}
  },
  {
   "cell_type": "code",
   "execution_count": 160,
   "source": [
    "import numpy as np \r\n",
    "import pandas as pd \r\n",
    "import matplotlib.pyplot as plt\r\n",
    "import tensorflow as tf\r\n",
    "from PIL import Image\r\n",
    "from tensorflow.python.keras.preprocessing import image as kp_image\r\n",
    "from tensorflow.python.keras import models \r\n",
    "from tensorflow.python.keras import losses\r\n",
    "from tensorflow.python.keras import layers\r\n",
    "from tensorflow.python.keras import backend as K\r\n",
    "from keras.preprocessing.image import ImageDataGenerator\r\n",
    "import matplotlib as mpl\r\n",
    "mpl.rcParams['figure.figsize'] = (10,10)\r\n",
    "mpl.rcParams['axes.grid'] = False\r\n",
    "\r\n",
    "datagen = ImageDataGenerator()\r\n",
    "datagenerator = datagen.flow_from_directory('./Data/',target_size=(128,128),batch_size=32,interpolation=\"lanczos\",shuffle=True)\r\n",
    "print('Number of samples: ', datagenerator.samples)\r\n",
    "print('Number of classes: ', len(datagenerator.class_indices))\r\n",
    "print('Number of samples per class: ', int(datagenerator.samples/len(datagenerator.class_indices)))"
   ],
   "outputs": [
    {
     "output_type": "stream",
     "name": "stdout",
     "text": [
      "Found 12342 images belonging to 78 classes.\n",
      "Number of samples:  12342\n",
      "Number of classes:  78\n",
      "Number of samples per class:  158\n"
     ]
    }
   ],
   "metadata": {}
  },
  {
   "cell_type": "markdown",
   "source": [
    "List of all classes"
   ],
   "metadata": {}
  },
  {
   "cell_type": "code",
   "execution_count": 161,
   "source": [
    "#print(\"The classes are: \" ,datagenerator.class_indices)"
   ],
   "outputs": [],
   "metadata": {}
  }
 ],
 "metadata": {
  "orig_nbformat": 4,
  "language_info": {
   "name": "python",
   "version": "3.7.11",
   "mimetype": "text/x-python",
   "codemirror_mode": {
    "name": "ipython",
    "version": 3
   },
   "pygments_lexer": "ipython3",
   "nbconvert_exporter": "python",
   "file_extension": ".py"
  },
  "kernelspec": {
   "name": "python3",
   "display_name": "Python 3.7.11 64-bit ('cuda': conda)"
  },
  "interpreter": {
   "hash": "b63ca20dba7b8d747f2eef0f33c50220419fb55e9005dacfe273c5ea8c833f9e"
  }
 },
 "nbformat": 4,
 "nbformat_minor": 2
}