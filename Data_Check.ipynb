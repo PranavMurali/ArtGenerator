{
 "cells": [
  {
   "cell_type": "markdown",
   "metadata": {},
   "source": [
    "Importing libraries and importing data"
   ]
  },
  {
   "cell_type": "code",
   "execution_count": 1,
   "metadata": {},
   "outputs": [
    {
     "name": "stdout",
     "output_type": "stream",
     "text": [
      "Found 12342 images belonging to 78 classes.\n",
      "Number of samples:  12342\n",
      "Number of classes:  78\n",
      "Number of samples per class:  158\n"
     ]
    }
   ],
   "source": [
    "from keras.preprocessing.image import ImageDataGenerator\n",
    "import matplotlib as mpl\n",
    "mpl.rcParams['figure.figsize'] = (10,10)\n",
    "mpl.rcParams['axes.grid'] = False\n",
    "\n",
    "datagen = ImageDataGenerator()\n",
    "datagenerator = datagen.flow_from_directory('./Data/',target_size=(128,128),batch_size=32,interpolation=\"lanczos\",shuffle=True)\n",
    "print('Number of samples: ', datagenerator.samples)\n",
    "print('Number of classes: ', len(datagenerator.class_indices))\n",
    "print('Number of samples per class: ', int(datagenerator.samples/len(datagenerator.class_indices)))"
   ]
  }
 ],
 "metadata": {
  "interpreter": {
   "hash": "b63ca20dba7b8d747f2eef0f33c50220419fb55e9005dacfe273c5ea8c833f9e"
  },
  "kernelspec": {
   "display_name": "Python 3.7.11 64-bit ('cuda': conda)",
   "name": "python3"
  },
  "language_info": {
   "codemirror_mode": {
    "name": "ipython",
    "version": 3
   },
   "file_extension": ".py",
   "mimetype": "text/x-python",
   "name": "python",
   "nbconvert_exporter": "python",
   "pygments_lexer": "ipython3",
   "version": "3.7.11"
  },
  "orig_nbformat": 4
 },
 "nbformat": 4,
 "nbformat_minor": 2
}
